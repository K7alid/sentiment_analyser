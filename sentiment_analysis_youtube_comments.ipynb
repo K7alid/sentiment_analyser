{
 "cells": [
  {
   "cell_type": "code",
   "id": "initial_id",
   "metadata": {
    "collapsed": true,
    "ExecuteTime": {
     "end_time": "2024-09-10T08:53:38.473540Z",
     "start_time": "2024-09-10T08:53:38.452442Z"
    }
   },
   "source": [
    "import pandas as pd\n",
    "from youtube_comment_downloader import YoutubeCommentDownloader\n",
    "def scrape_youtube_comments(video_url):\n",
    "    \n",
    "    downloader = YoutubeCommentDownloader()\n",
    "    comments = downloader.get_comments_from_url(video_url)\n",
    "    \n",
    "    data = []\n",
    "\n",
    "    for comment in comments:\n",
    "        comment_data = {\n",
    "            'text': comment.get('text', ''),\n",
    "            'author': comment.get('author', ''),\n",
    "            'likes': comment.get('votes', 0),\n",
    "            'time': comment.get('time', ''),\n",
    "        }\n",
    "        data.append(comment_data)\n",
    "\n",
    "    # Create a DataFrame from the list\n",
    "    df = pd.DataFrame(data)\n",
    "    \n",
    "    return df"
   ],
   "outputs": [],
   "execution_count": 48
  },
  {
   "metadata": {
    "ExecuteTime": {
     "end_time": "2024-09-10T08:54:12.023067Z",
     "start_time": "2024-09-10T08:53:38.817469Z"
    }
   },
   "cell_type": "code",
   "source": [
    "video_url = 'https://www.youtube.com/watch?v=hjh08lEpTzw'\n",
    "df = scrape_youtube_comments(video_url)"
   ],
   "id": "949265cc65f147e3",
   "outputs": [],
   "execution_count": 49
  },
  {
   "metadata": {
    "ExecuteTime": {
     "end_time": "2024-09-10T08:54:12.038402Z",
     "start_time": "2024-09-10T08:54:12.026925Z"
    }
   },
   "cell_type": "code",
   "source": "df.likes = df.likes.astype(int)",
   "id": "f56facabd7e5cc2d",
   "outputs": [],
   "execution_count": 50
  },
  {
   "metadata": {
    "ExecuteTime": {
     "end_time": "2024-09-10T08:54:12.054428Z",
     "start_time": "2024-09-10T08:54:12.040396Z"
    }
   },
   "cell_type": "code",
   "source": "df.head()",
   "id": "275cfb07d7c16ca1",
   "outputs": [
    {
     "data": {
      "text/plain": [
       "                                                text                 author  \\\n",
       "0          Which European union nationality is best?  @HashirRayanLimitless   \n",
       "1                   Lee Paul Smith Ruth Garcia Susan      @WendyPennell-j7g   \n",
       "2  And I hear that if you want to get-the hell ou...              @6648rome   \n",
       "3                                           Awesome🎉            @Ardaandmom   \n",
       "4  I have the Colombian passport by birth and the...           @claudiam427   \n",
       "\n",
       "   likes                    time  \n",
       "0      0             قبل 5 ساعات  \n",
       "1      0               قبل يومين  \n",
       "2      0  قبل 6 أيام (تم تعديله)  \n",
       "3      0              قبل 7 أيام  \n",
       "4      0              قبل 8 أيام  "
      ],
      "text/html": [
       "<div>\n",
       "<style scoped>\n",
       "    .dataframe tbody tr th:only-of-type {\n",
       "        vertical-align: middle;\n",
       "    }\n",
       "\n",
       "    .dataframe tbody tr th {\n",
       "        vertical-align: top;\n",
       "    }\n",
       "\n",
       "    .dataframe thead th {\n",
       "        text-align: right;\n",
       "    }\n",
       "</style>\n",
       "<table border=\"1\" class=\"dataframe\">\n",
       "  <thead>\n",
       "    <tr style=\"text-align: right;\">\n",
       "      <th></th>\n",
       "      <th>text</th>\n",
       "      <th>author</th>\n",
       "      <th>likes</th>\n",
       "      <th>time</th>\n",
       "    </tr>\n",
       "  </thead>\n",
       "  <tbody>\n",
       "    <tr>\n",
       "      <th>0</th>\n",
       "      <td>Which European union nationality is best?</td>\n",
       "      <td>@HashirRayanLimitless</td>\n",
       "      <td>0</td>\n",
       "      <td>قبل 5 ساعات</td>\n",
       "    </tr>\n",
       "    <tr>\n",
       "      <th>1</th>\n",
       "      <td>Lee Paul Smith Ruth Garcia Susan</td>\n",
       "      <td>@WendyPennell-j7g</td>\n",
       "      <td>0</td>\n",
       "      <td>قبل يومين</td>\n",
       "    </tr>\n",
       "    <tr>\n",
       "      <th>2</th>\n",
       "      <td>And I hear that if you want to get-the hell ou...</td>\n",
       "      <td>@6648rome</td>\n",
       "      <td>0</td>\n",
       "      <td>قبل 6 أيام (تم تعديله)</td>\n",
       "    </tr>\n",
       "    <tr>\n",
       "      <th>3</th>\n",
       "      <td>Awesome🎉</td>\n",
       "      <td>@Ardaandmom</td>\n",
       "      <td>0</td>\n",
       "      <td>قبل 7 أيام</td>\n",
       "    </tr>\n",
       "    <tr>\n",
       "      <th>4</th>\n",
       "      <td>I have the Colombian passport by birth and the...</td>\n",
       "      <td>@claudiam427</td>\n",
       "      <td>0</td>\n",
       "      <td>قبل 8 أيام</td>\n",
       "    </tr>\n",
       "  </tbody>\n",
       "</table>\n",
       "</div>"
      ]
     },
     "execution_count": 51,
     "metadata": {},
     "output_type": "execute_result"
    }
   ],
   "execution_count": 51
  },
  {
   "metadata": {
    "ExecuteTime": {
     "end_time": "2024-09-10T08:54:12.084617Z",
     "start_time": "2024-09-10T08:54:12.057397Z"
    }
   },
   "cell_type": "code",
   "source": "df[df['text'].str.contains('@', case=False)]",
   "id": "bb20eac3b53f036a",
   "outputs": [
    {
     "data": {
      "text/plain": [
       "                                                  text               author  \\\n",
       "23                 @nomadcapitalist  thank you kindly!          @mikejr1152   \n",
       "70    @SkullTraill   Name one legitimate reason for...  @harryniedecken5321   \n",
       "72   ​ @Blueskies1180  He's not an intellectual/int...       @lovely_pariah   \n",
       "75                     @einnnor  How many do you have?           @dadada396   \n",
       "98   ​ @alchemira , stop watching news from Rio (un...       @gandhinho5466   \n",
       "..                                                 ...                  ...   \n",
       "547   @Bearjew613  Hey, wait a minute...isn't that ...   @ruralsquirrel5158   \n",
       "548   @ruralsquirrel5158  I mean the Arab countries...          @Bearjew613   \n",
       "551     @2ASHKENAZI  It's funny  but unfortunatly true             @The-Cat   \n",
       "554  We generally get hired to handle more difficul...     @nomadcapitalist   \n",
       "556               @tipr8739  okay thanks for the info.    @stackstradingllc   \n",
       "\n",
       "     likes                      time  \n",
       "23       0              قبل 13 يومًا  \n",
       "70       0  قبل 3 أسابيع (تم تعديله)  \n",
       "72       6              قبل 3 أسابيع  \n",
       "75       0    قبل 4 أيام (تم تعديله)  \n",
       "98       3              قبل 3 أسابيع  \n",
       "..     ...                       ...  \n",
       "547      2                 قبل شهرين  \n",
       "548      3                 قبل شهرين  \n",
       "551      0              قبل شهر واحد  \n",
       "554      2                 قبل شهرين  \n",
       "556      0                 قبل شهرين  \n",
       "\n",
       "[142 rows x 4 columns]"
      ],
      "text/html": [
       "<div>\n",
       "<style scoped>\n",
       "    .dataframe tbody tr th:only-of-type {\n",
       "        vertical-align: middle;\n",
       "    }\n",
       "\n",
       "    .dataframe tbody tr th {\n",
       "        vertical-align: top;\n",
       "    }\n",
       "\n",
       "    .dataframe thead th {\n",
       "        text-align: right;\n",
       "    }\n",
       "</style>\n",
       "<table border=\"1\" class=\"dataframe\">\n",
       "  <thead>\n",
       "    <tr style=\"text-align: right;\">\n",
       "      <th></th>\n",
       "      <th>text</th>\n",
       "      <th>author</th>\n",
       "      <th>likes</th>\n",
       "      <th>time</th>\n",
       "    </tr>\n",
       "  </thead>\n",
       "  <tbody>\n",
       "    <tr>\n",
       "      <th>23</th>\n",
       "      <td>@nomadcapitalist  thank you kindly!</td>\n",
       "      <td>@mikejr1152</td>\n",
       "      <td>0</td>\n",
       "      <td>قبل 13 يومًا</td>\n",
       "    </tr>\n",
       "    <tr>\n",
       "      <th>70</th>\n",
       "      <td>@SkullTraill   Name one legitimate reason for...</td>\n",
       "      <td>@harryniedecken5321</td>\n",
       "      <td>0</td>\n",
       "      <td>قبل 3 أسابيع (تم تعديله)</td>\n",
       "    </tr>\n",
       "    <tr>\n",
       "      <th>72</th>\n",
       "      <td>​ @Blueskies1180  He's not an intellectual/int...</td>\n",
       "      <td>@lovely_pariah</td>\n",
       "      <td>6</td>\n",
       "      <td>قبل 3 أسابيع</td>\n",
       "    </tr>\n",
       "    <tr>\n",
       "      <th>75</th>\n",
       "      <td>@einnnor  How many do you have?</td>\n",
       "      <td>@dadada396</td>\n",
       "      <td>0</td>\n",
       "      <td>قبل 4 أيام (تم تعديله)</td>\n",
       "    </tr>\n",
       "    <tr>\n",
       "      <th>98</th>\n",
       "      <td>​ @alchemira , stop watching news from Rio (un...</td>\n",
       "      <td>@gandhinho5466</td>\n",
       "      <td>3</td>\n",
       "      <td>قبل 3 أسابيع</td>\n",
       "    </tr>\n",
       "    <tr>\n",
       "      <th>...</th>\n",
       "      <td>...</td>\n",
       "      <td>...</td>\n",
       "      <td>...</td>\n",
       "      <td>...</td>\n",
       "    </tr>\n",
       "    <tr>\n",
       "      <th>547</th>\n",
       "      <td>@Bearjew613  Hey, wait a minute...isn't that ...</td>\n",
       "      <td>@ruralsquirrel5158</td>\n",
       "      <td>2</td>\n",
       "      <td>قبل شهرين</td>\n",
       "    </tr>\n",
       "    <tr>\n",
       "      <th>548</th>\n",
       "      <td>@ruralsquirrel5158  I mean the Arab countries...</td>\n",
       "      <td>@Bearjew613</td>\n",
       "      <td>3</td>\n",
       "      <td>قبل شهرين</td>\n",
       "    </tr>\n",
       "    <tr>\n",
       "      <th>551</th>\n",
       "      <td>@2ASHKENAZI  It's funny  but unfortunatly true</td>\n",
       "      <td>@The-Cat</td>\n",
       "      <td>0</td>\n",
       "      <td>قبل شهر واحد</td>\n",
       "    </tr>\n",
       "    <tr>\n",
       "      <th>554</th>\n",
       "      <td>We generally get hired to handle more difficul...</td>\n",
       "      <td>@nomadcapitalist</td>\n",
       "      <td>2</td>\n",
       "      <td>قبل شهرين</td>\n",
       "    </tr>\n",
       "    <tr>\n",
       "      <th>556</th>\n",
       "      <td>@tipr8739  okay thanks for the info.</td>\n",
       "      <td>@stackstradingllc</td>\n",
       "      <td>0</td>\n",
       "      <td>قبل شهرين</td>\n",
       "    </tr>\n",
       "  </tbody>\n",
       "</table>\n",
       "<p>142 rows × 4 columns</p>\n",
       "</div>"
      ]
     },
     "execution_count": 52,
     "metadata": {},
     "output_type": "execute_result"
    }
   ],
   "execution_count": 52
  },
  {
   "metadata": {
    "ExecuteTime": {
     "end_time": "2024-09-10T08:56:43.662450Z",
     "start_time": "2024-09-10T08:56:43.640564Z"
    }
   },
   "cell_type": "code",
   "source": "df[df['text'].str.contains(' ', case=False)]",
   "id": "7a0a13265a3414a8",
   "outputs": [
    {
     "data": {
      "text/plain": [
       "                                                  text               author  \\\n",
       "23                 @nomadcapitalist  thank you kindly!          @mikejr1152   \n",
       "70    @SkullTraill   Name one legitimate reason for...  @harryniedecken5321   \n",
       "72   ​ @Blueskies1180  He's not an intellectual/int...       @lovely_pariah   \n",
       "75                     @einnnor  How many do you have?           @dadada396   \n",
       "98   ​ @alchemira , stop watching news from Rio (un...       @gandhinho5466   \n",
       "..                                                 ...                  ...   \n",
       "546   @2ASHKENAZI but  Israel is terrorist state an...            @fhfh1589   \n",
       "547   @Bearjew613  Hey, wait a minute...isn't that ...   @ruralsquirrel5158   \n",
       "548   @ruralsquirrel5158  I mean the Arab countries...          @Bearjew613   \n",
       "551     @2ASHKENAZI  It's funny  but unfortunatly true             @The-Cat   \n",
       "556               @tipr8739  okay thanks for the info.    @stackstradingllc   \n",
       "\n",
       "     likes                      time  \n",
       "23       0              قبل 13 يومًا  \n",
       "70       0  قبل 3 أسابيع (تم تعديله)  \n",
       "72       6              قبل 3 أسابيع  \n",
       "75       0    قبل 4 أيام (تم تعديله)  \n",
       "98       3              قبل 3 أسابيع  \n",
       "..     ...                       ...  \n",
       "546      0                 قبل شهرين  \n",
       "547      2                 قبل شهرين  \n",
       "548      3                 قبل شهرين  \n",
       "551      0              قبل شهر واحد  \n",
       "556      0                 قبل شهرين  \n",
       "\n",
       "[133 rows x 4 columns]"
      ],
      "text/html": [
       "<div>\n",
       "<style scoped>\n",
       "    .dataframe tbody tr th:only-of-type {\n",
       "        vertical-align: middle;\n",
       "    }\n",
       "\n",
       "    .dataframe tbody tr th {\n",
       "        vertical-align: top;\n",
       "    }\n",
       "\n",
       "    .dataframe thead th {\n",
       "        text-align: right;\n",
       "    }\n",
       "</style>\n",
       "<table border=\"1\" class=\"dataframe\">\n",
       "  <thead>\n",
       "    <tr style=\"text-align: right;\">\n",
       "      <th></th>\n",
       "      <th>text</th>\n",
       "      <th>author</th>\n",
       "      <th>likes</th>\n",
       "      <th>time</th>\n",
       "    </tr>\n",
       "  </thead>\n",
       "  <tbody>\n",
       "    <tr>\n",
       "      <th>23</th>\n",
       "      <td>@nomadcapitalist  thank you kindly!</td>\n",
       "      <td>@mikejr1152</td>\n",
       "      <td>0</td>\n",
       "      <td>قبل 13 يومًا</td>\n",
       "    </tr>\n",
       "    <tr>\n",
       "      <th>70</th>\n",
       "      <td>@SkullTraill   Name one legitimate reason for...</td>\n",
       "      <td>@harryniedecken5321</td>\n",
       "      <td>0</td>\n",
       "      <td>قبل 3 أسابيع (تم تعديله)</td>\n",
       "    </tr>\n",
       "    <tr>\n",
       "      <th>72</th>\n",
       "      <td>​ @Blueskies1180  He's not an intellectual/int...</td>\n",
       "      <td>@lovely_pariah</td>\n",
       "      <td>6</td>\n",
       "      <td>قبل 3 أسابيع</td>\n",
       "    </tr>\n",
       "    <tr>\n",
       "      <th>75</th>\n",
       "      <td>@einnnor  How many do you have?</td>\n",
       "      <td>@dadada396</td>\n",
       "      <td>0</td>\n",
       "      <td>قبل 4 أيام (تم تعديله)</td>\n",
       "    </tr>\n",
       "    <tr>\n",
       "      <th>98</th>\n",
       "      <td>​ @alchemira , stop watching news from Rio (un...</td>\n",
       "      <td>@gandhinho5466</td>\n",
       "      <td>3</td>\n",
       "      <td>قبل 3 أسابيع</td>\n",
       "    </tr>\n",
       "    <tr>\n",
       "      <th>...</th>\n",
       "      <td>...</td>\n",
       "      <td>...</td>\n",
       "      <td>...</td>\n",
       "      <td>...</td>\n",
       "    </tr>\n",
       "    <tr>\n",
       "      <th>546</th>\n",
       "      <td>@2ASHKENAZI but  Israel is terrorist state an...</td>\n",
       "      <td>@fhfh1589</td>\n",
       "      <td>0</td>\n",
       "      <td>قبل شهرين</td>\n",
       "    </tr>\n",
       "    <tr>\n",
       "      <th>547</th>\n",
       "      <td>@Bearjew613  Hey, wait a minute...isn't that ...</td>\n",
       "      <td>@ruralsquirrel5158</td>\n",
       "      <td>2</td>\n",
       "      <td>قبل شهرين</td>\n",
       "    </tr>\n",
       "    <tr>\n",
       "      <th>548</th>\n",
       "      <td>@ruralsquirrel5158  I mean the Arab countries...</td>\n",
       "      <td>@Bearjew613</td>\n",
       "      <td>3</td>\n",
       "      <td>قبل شهرين</td>\n",
       "    </tr>\n",
       "    <tr>\n",
       "      <th>551</th>\n",
       "      <td>@2ASHKENAZI  It's funny  but unfortunatly true</td>\n",
       "      <td>@The-Cat</td>\n",
       "      <td>0</td>\n",
       "      <td>قبل شهر واحد</td>\n",
       "    </tr>\n",
       "    <tr>\n",
       "      <th>556</th>\n",
       "      <td>@tipr8739  okay thanks for the info.</td>\n",
       "      <td>@stackstradingllc</td>\n",
       "      <td>0</td>\n",
       "      <td>قبل شهرين</td>\n",
       "    </tr>\n",
       "  </tbody>\n",
       "</table>\n",
       "<p>133 rows × 4 columns</p>\n",
       "</div>"
      ]
     },
     "execution_count": 55,
     "metadata": {},
     "output_type": "execute_result"
    }
   ],
   "execution_count": 55
  },
  {
   "metadata": {
    "ExecuteTime": {
     "end_time": "2024-09-10T09:48:27.259612Z",
     "start_time": "2024-09-10T09:48:27.230603Z"
    }
   },
   "cell_type": "code",
   "source": [
    "# remove links, hashtags, mentions\n",
    "df['text'] = df['text'].str.replace(r'http\\S+', '', case=False)\n",
    "df['text'] = df['text'].str.replace(r'www\\S+', '', case=False)\n",
    "df['text'] = df['text'].str.replace(r'@\\S+', '', case=False)\n",
    "df['text'] = df['text'].str.replace(r'#\\S+', '', case=False)\n",
    "df['text'] = df['text'].str.replace(r' ', '', case=False)\n",
    "df.head()"
   ],
   "id": "c43dc851a6ba5739",
   "outputs": [
    {
     "data": {
      "text/plain": [
       "                                                text                 author  \\\n",
       "0          Which European union nationality is best?  @HashirRayanLimitless   \n",
       "1                   Lee Paul Smith Ruth Garcia Susan      @WendyPennell-j7g   \n",
       "2  And I hear that if you want to get-the hell ou...              @6648rome   \n",
       "3                                           Awesome🎉            @Ardaandmom   \n",
       "4  I have the Colombian passport by birth and the...           @claudiam427   \n",
       "\n",
       "   likes                    time  \n",
       "0      0             قبل 5 ساعات  \n",
       "1      0               قبل يومين  \n",
       "2      0  قبل 6 أيام (تم تعديله)  \n",
       "3      0              قبل 7 أيام  \n",
       "4      0              قبل 8 أيام  "
      ],
      "text/html": [
       "<div>\n",
       "<style scoped>\n",
       "    .dataframe tbody tr th:only-of-type {\n",
       "        vertical-align: middle;\n",
       "    }\n",
       "\n",
       "    .dataframe tbody tr th {\n",
       "        vertical-align: top;\n",
       "    }\n",
       "\n",
       "    .dataframe thead th {\n",
       "        text-align: right;\n",
       "    }\n",
       "</style>\n",
       "<table border=\"1\" class=\"dataframe\">\n",
       "  <thead>\n",
       "    <tr style=\"text-align: right;\">\n",
       "      <th></th>\n",
       "      <th>text</th>\n",
       "      <th>author</th>\n",
       "      <th>likes</th>\n",
       "      <th>time</th>\n",
       "    </tr>\n",
       "  </thead>\n",
       "  <tbody>\n",
       "    <tr>\n",
       "      <th>0</th>\n",
       "      <td>Which European union nationality is best?</td>\n",
       "      <td>@HashirRayanLimitless</td>\n",
       "      <td>0</td>\n",
       "      <td>قبل 5 ساعات</td>\n",
       "    </tr>\n",
       "    <tr>\n",
       "      <th>1</th>\n",
       "      <td>Lee Paul Smith Ruth Garcia Susan</td>\n",
       "      <td>@WendyPennell-j7g</td>\n",
       "      <td>0</td>\n",
       "      <td>قبل يومين</td>\n",
       "    </tr>\n",
       "    <tr>\n",
       "      <th>2</th>\n",
       "      <td>And I hear that if you want to get-the hell ou...</td>\n",
       "      <td>@6648rome</td>\n",
       "      <td>0</td>\n",
       "      <td>قبل 6 أيام (تم تعديله)</td>\n",
       "    </tr>\n",
       "    <tr>\n",
       "      <th>3</th>\n",
       "      <td>Awesome🎉</td>\n",
       "      <td>@Ardaandmom</td>\n",
       "      <td>0</td>\n",
       "      <td>قبل 7 أيام</td>\n",
       "    </tr>\n",
       "    <tr>\n",
       "      <th>4</th>\n",
       "      <td>I have the Colombian passport by birth and the...</td>\n",
       "      <td>@claudiam427</td>\n",
       "      <td>0</td>\n",
       "      <td>قبل 8 أيام</td>\n",
       "    </tr>\n",
       "  </tbody>\n",
       "</table>\n",
       "</div>"
      ]
     },
     "execution_count": 86,
     "metadata": {},
     "output_type": "execute_result"
    }
   ],
   "execution_count": 86
  },
  {
   "metadata": {
    "ExecuteTime": {
     "end_time": "2024-09-10T09:48:28.670707Z",
     "start_time": "2024-09-10T09:48:28.657475Z"
    }
   },
   "cell_type": "code",
   "source": "df[df['text'].str.contains(' ', case=False)]",
   "id": "a1328ee692f2b3d8",
   "outputs": [
    {
     "data": {
      "text/plain": [
       "Empty DataFrame\n",
       "Columns: [text, author, likes, time]\n",
       "Index: []"
      ],
      "text/html": [
       "<div>\n",
       "<style scoped>\n",
       "    .dataframe tbody tr th:only-of-type {\n",
       "        vertical-align: middle;\n",
       "    }\n",
       "\n",
       "    .dataframe tbody tr th {\n",
       "        vertical-align: top;\n",
       "    }\n",
       "\n",
       "    .dataframe thead th {\n",
       "        text-align: right;\n",
       "    }\n",
       "</style>\n",
       "<table border=\"1\" class=\"dataframe\">\n",
       "  <thead>\n",
       "    <tr style=\"text-align: right;\">\n",
       "      <th></th>\n",
       "      <th>text</th>\n",
       "      <th>author</th>\n",
       "      <th>likes</th>\n",
       "      <th>time</th>\n",
       "    </tr>\n",
       "  </thead>\n",
       "  <tbody>\n",
       "  </tbody>\n",
       "</table>\n",
       "</div>"
      ]
     },
     "execution_count": 87,
     "metadata": {},
     "output_type": "execute_result"
    }
   ],
   "execution_count": 87
  },
  {
   "metadata": {
    "ExecuteTime": {
     "end_time": "2024-09-10T09:48:29.234392Z",
     "start_time": "2024-09-10T09:48:29.215874Z"
    }
   },
   "cell_type": "code",
   "source": "df",
   "id": "ef1d7c7fbd426c50",
   "outputs": [
    {
     "data": {
      "text/plain": [
       "                                                  text                 author  \\\n",
       "0            Which European union nationality is best?  @HashirRayanLimitless   \n",
       "1                     Lee Paul Smith Ruth Garcia Susan      @WendyPennell-j7g   \n",
       "2    And I hear that if you want to get-the hell ou...              @6648rome   \n",
       "3                                             Awesome🎉            @Ardaandmom   \n",
       "4    I have the Colombian passport by birth and the...           @claudiam427   \n",
       "..                                                 ...                    ...   \n",
       "567              Guess first thing is to get rich then      @Muiscfromthealps   \n",
       "568              This channel is not for normal people     @the_expidition427   \n",
       "569                            More lisp pleize boize.          @GeeBee-wy8rb   \n",
       "570                                            Hello 👋       @nomadcapitalist   \n",
       "571                                            Hola 👋🏻                @plizak   \n",
       "\n",
       "     likes                    time  \n",
       "0        0             قبل 5 ساعات  \n",
       "1        0               قبل يومين  \n",
       "2        0  قبل 6 أيام (تم تعديله)  \n",
       "3        0              قبل 7 أيام  \n",
       "4        0              قبل 8 أيام  \n",
       "..     ...                     ...  \n",
       "567      5               قبل شهرين  \n",
       "568      9               قبل شهرين  \n",
       "569      0               قبل شهرين  \n",
       "570      2               قبل شهرين  \n",
       "571      1               قبل شهرين  \n",
       "\n",
       "[572 rows x 4 columns]"
      ],
      "text/html": [
       "<div>\n",
       "<style scoped>\n",
       "    .dataframe tbody tr th:only-of-type {\n",
       "        vertical-align: middle;\n",
       "    }\n",
       "\n",
       "    .dataframe tbody tr th {\n",
       "        vertical-align: top;\n",
       "    }\n",
       "\n",
       "    .dataframe thead th {\n",
       "        text-align: right;\n",
       "    }\n",
       "</style>\n",
       "<table border=\"1\" class=\"dataframe\">\n",
       "  <thead>\n",
       "    <tr style=\"text-align: right;\">\n",
       "      <th></th>\n",
       "      <th>text</th>\n",
       "      <th>author</th>\n",
       "      <th>likes</th>\n",
       "      <th>time</th>\n",
       "    </tr>\n",
       "  </thead>\n",
       "  <tbody>\n",
       "    <tr>\n",
       "      <th>0</th>\n",
       "      <td>Which European union nationality is best?</td>\n",
       "      <td>@HashirRayanLimitless</td>\n",
       "      <td>0</td>\n",
       "      <td>قبل 5 ساعات</td>\n",
       "    </tr>\n",
       "    <tr>\n",
       "      <th>1</th>\n",
       "      <td>Lee Paul Smith Ruth Garcia Susan</td>\n",
       "      <td>@WendyPennell-j7g</td>\n",
       "      <td>0</td>\n",
       "      <td>قبل يومين</td>\n",
       "    </tr>\n",
       "    <tr>\n",
       "      <th>2</th>\n",
       "      <td>And I hear that if you want to get-the hell ou...</td>\n",
       "      <td>@6648rome</td>\n",
       "      <td>0</td>\n",
       "      <td>قبل 6 أيام (تم تعديله)</td>\n",
       "    </tr>\n",
       "    <tr>\n",
       "      <th>3</th>\n",
       "      <td>Awesome🎉</td>\n",
       "      <td>@Ardaandmom</td>\n",
       "      <td>0</td>\n",
       "      <td>قبل 7 أيام</td>\n",
       "    </tr>\n",
       "    <tr>\n",
       "      <th>4</th>\n",
       "      <td>I have the Colombian passport by birth and the...</td>\n",
       "      <td>@claudiam427</td>\n",
       "      <td>0</td>\n",
       "      <td>قبل 8 أيام</td>\n",
       "    </tr>\n",
       "    <tr>\n",
       "      <th>...</th>\n",
       "      <td>...</td>\n",
       "      <td>...</td>\n",
       "      <td>...</td>\n",
       "      <td>...</td>\n",
       "    </tr>\n",
       "    <tr>\n",
       "      <th>567</th>\n",
       "      <td>Guess first thing is to get rich then</td>\n",
       "      <td>@Muiscfromthealps</td>\n",
       "      <td>5</td>\n",
       "      <td>قبل شهرين</td>\n",
       "    </tr>\n",
       "    <tr>\n",
       "      <th>568</th>\n",
       "      <td>This channel is not for normal people</td>\n",
       "      <td>@the_expidition427</td>\n",
       "      <td>9</td>\n",
       "      <td>قبل شهرين</td>\n",
       "    </tr>\n",
       "    <tr>\n",
       "      <th>569</th>\n",
       "      <td>More lisp pleize boize.</td>\n",
       "      <td>@GeeBee-wy8rb</td>\n",
       "      <td>0</td>\n",
       "      <td>قبل شهرين</td>\n",
       "    </tr>\n",
       "    <tr>\n",
       "      <th>570</th>\n",
       "      <td>Hello 👋</td>\n",
       "      <td>@nomadcapitalist</td>\n",
       "      <td>2</td>\n",
       "      <td>قبل شهرين</td>\n",
       "    </tr>\n",
       "    <tr>\n",
       "      <th>571</th>\n",
       "      <td>Hola 👋🏻</td>\n",
       "      <td>@plizak</td>\n",
       "      <td>1</td>\n",
       "      <td>قبل شهرين</td>\n",
       "    </tr>\n",
       "  </tbody>\n",
       "</table>\n",
       "<p>572 rows × 4 columns</p>\n",
       "</div>"
      ]
     },
     "execution_count": 88,
     "metadata": {},
     "output_type": "execute_result"
    }
   ],
   "execution_count": 88
  },
  {
   "metadata": {
    "ExecuteTime": {
     "end_time": "2024-09-10T09:48:30.859206Z",
     "start_time": "2024-09-10T09:48:29.757630Z"
    }
   },
   "cell_type": "code",
   "source": [
    "from transformers import pipeline\n",
    "sentiment_analyzer = pipeline(\"sentiment-analysis\", model=\"j-hartmann/emotion-english-distilroberta-base\")"
   ],
   "id": "d35ef9a6d6a838ba",
   "outputs": [],
   "execution_count": 89
  },
  {
   "metadata": {
    "ExecuteTime": {
     "end_time": "2024-09-10T09:48:31.935416Z",
     "start_time": "2024-09-10T09:48:31.894410Z"
    }
   },
   "cell_type": "code",
   "source": [
    "print(df['text'][3])\n",
    "sentiment_analyzer(df['text'][3])"
   ],
   "id": "7438496103f71545",
   "outputs": [
    {
     "name": "stdout",
     "output_type": "stream",
     "text": [
      "Awesome🎉\n"
     ]
    },
    {
     "data": {
      "text/plain": [
       "[{'label': 'joy', 'score': 0.608202338218689}]"
      ]
     },
     "execution_count": 90,
     "metadata": {},
     "output_type": "execute_result"
    }
   ],
   "execution_count": 90
  },
  {
   "metadata": {
    "ExecuteTime": {
     "end_time": "2024-09-10T09:50:37.575745Z",
     "start_time": "2024-09-10T09:50:37.562650Z"
    }
   },
   "cell_type": "code",
   "source": "df['text'] = df['text'].apply(lambda x: x if len(x) < 512 else x[:512])",
   "id": "955b8b43fd6ac1a2",
   "outputs": [],
   "execution_count": 92
  },
  {
   "metadata": {
    "ExecuteTime": {
     "end_time": "2024-09-10T09:51:00.210488Z",
     "start_time": "2024-09-10T09:50:38.943670Z"
    }
   },
   "cell_type": "code",
   "source": "df['sentiment'] = df['text'].apply(lambda x: sentiment_analyzer(x)[0]['label'])",
   "id": "c47e894ca7b0880b",
   "outputs": [],
   "execution_count": 93
  },
  {
   "metadata": {
    "ExecuteTime": {
     "end_time": "2024-09-10T09:53:06.370702Z",
     "start_time": "2024-09-10T09:53:06.345699Z"
    }
   },
   "cell_type": "code",
   "source": "df.head()",
   "id": "ddd5b2a19b20bcf1",
   "outputs": [
    {
     "data": {
      "text/plain": [
       "                                                text                 author  \\\n",
       "0          Which European union nationality is best?  @HashirRayanLimitless   \n",
       "1                   Lee Paul Smith Ruth Garcia Susan      @WendyPennell-j7g   \n",
       "2  And I hear that if you want to get-the hell ou...              @6648rome   \n",
       "3                                           Awesome🎉            @Ardaandmom   \n",
       "4  I have the Colombian passport by birth and the...           @claudiam427   \n",
       "\n",
       "   likes                    time sentiment  \n",
       "0      0             قبل 5 ساعات   neutral  \n",
       "1      0               قبل يومين   neutral  \n",
       "2      0  قبل 6 أيام (تم تعديله)     anger  \n",
       "3      0              قبل 7 أيام       joy  \n",
       "4      0              قبل 8 أيام   sadness  "
      ],
      "text/html": [
       "<div>\n",
       "<style scoped>\n",
       "    .dataframe tbody tr th:only-of-type {\n",
       "        vertical-align: middle;\n",
       "    }\n",
       "\n",
       "    .dataframe tbody tr th {\n",
       "        vertical-align: top;\n",
       "    }\n",
       "\n",
       "    .dataframe thead th {\n",
       "        text-align: right;\n",
       "    }\n",
       "</style>\n",
       "<table border=\"1\" class=\"dataframe\">\n",
       "  <thead>\n",
       "    <tr style=\"text-align: right;\">\n",
       "      <th></th>\n",
       "      <th>text</th>\n",
       "      <th>author</th>\n",
       "      <th>likes</th>\n",
       "      <th>time</th>\n",
       "      <th>sentiment</th>\n",
       "    </tr>\n",
       "  </thead>\n",
       "  <tbody>\n",
       "    <tr>\n",
       "      <th>0</th>\n",
       "      <td>Which European union nationality is best?</td>\n",
       "      <td>@HashirRayanLimitless</td>\n",
       "      <td>0</td>\n",
       "      <td>قبل 5 ساعات</td>\n",
       "      <td>neutral</td>\n",
       "    </tr>\n",
       "    <tr>\n",
       "      <th>1</th>\n",
       "      <td>Lee Paul Smith Ruth Garcia Susan</td>\n",
       "      <td>@WendyPennell-j7g</td>\n",
       "      <td>0</td>\n",
       "      <td>قبل يومين</td>\n",
       "      <td>neutral</td>\n",
       "    </tr>\n",
       "    <tr>\n",
       "      <th>2</th>\n",
       "      <td>And I hear that if you want to get-the hell ou...</td>\n",
       "      <td>@6648rome</td>\n",
       "      <td>0</td>\n",
       "      <td>قبل 6 أيام (تم تعديله)</td>\n",
       "      <td>anger</td>\n",
       "    </tr>\n",
       "    <tr>\n",
       "      <th>3</th>\n",
       "      <td>Awesome🎉</td>\n",
       "      <td>@Ardaandmom</td>\n",
       "      <td>0</td>\n",
       "      <td>قبل 7 أيام</td>\n",
       "      <td>joy</td>\n",
       "    </tr>\n",
       "    <tr>\n",
       "      <th>4</th>\n",
       "      <td>I have the Colombian passport by birth and the...</td>\n",
       "      <td>@claudiam427</td>\n",
       "      <td>0</td>\n",
       "      <td>قبل 8 أيام</td>\n",
       "      <td>sadness</td>\n",
       "    </tr>\n",
       "  </tbody>\n",
       "</table>\n",
       "</div>"
      ]
     },
     "execution_count": 94,
     "metadata": {},
     "output_type": "execute_result"
    }
   ],
   "execution_count": 94
  },
  {
   "metadata": {
    "ExecuteTime": {
     "end_time": "2024-09-10T09:53:32.634044Z",
     "start_time": "2024-09-10T09:53:32.621033Z"
    }
   },
   "cell_type": "code",
   "source": "df['sentiment'].value_counts()",
   "id": "777e4a98c23cebc3",
   "outputs": [
    {
     "data": {
      "text/plain": [
       "sentiment\n",
       "neutral     344\n",
       "joy          53\n",
       "sadness      51\n",
       "surprise     48\n",
       "anger        32\n",
       "fear         23\n",
       "disgust      21\n",
       "Name: count, dtype: int64"
      ]
     },
     "execution_count": 95,
     "metadata": {},
     "output_type": "execute_result"
    }
   ],
   "execution_count": 95
  },
  {
   "metadata": {
    "ExecuteTime": {
     "end_time": "2024-09-10T09:55:36.483152Z",
     "start_time": "2024-09-10T09:55:35.227660Z"
    }
   },
   "cell_type": "code",
   "source": [
    "# plot sentiment distribution\n",
    "import matplotlib.pyplot as plt\n",
    "df['sentiment'].value_counts().plot(kind='bar')\n",
    "plt.show()"
   ],
   "id": "143f95554cf40ba5",
   "outputs": [
    {
     "data": {
      "text/plain": [
       "<Figure size 640x480 with 1 Axes>"
      ],
      "image/png": "[encoded data removed]"
     },
     "metadata": {},
     "output_type": "display_data"
    }
   ],
   "execution_count": 96
  },
  {
   "metadata": {},
   "cell_type": "code",
   "outputs": [],
   "execution_count": null,
   "source": "df.to_csv('sentiment_analysis_youtube_comments.csv', index=False)",
   "id": "710f18bbc249c472"
  }
 ],
 "metadata": {
  "kernelspec": {
   "display_name": "Python 3",
   "language": "python",
   "name": "python3"
  },
  "language_info": {
   "codemirror_mode": {
    "name": "ipython",
    "version": 2
   },
   "file_extension": ".py",
   "mimetype": "text/x-python",
   "name": "python",
   "nbconvert_exporter": "python",
   "pygments_lexer": "ipython2",
   "version": "2.7.6"
  }
 },
 "nbformat": 4,
 "nbformat_minor": 5
}
