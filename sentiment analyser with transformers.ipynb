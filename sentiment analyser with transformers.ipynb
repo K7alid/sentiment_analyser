{
 "cells": [
  {
   "metadata": {
    "ExecuteTime": {
     "end_time": "2024-08-17T05:56:10.513555Z",
     "start_time": "2024-08-17T05:56:10.403533Z"
    }
   },
   "cell_type": "code",
   "source": [
    "import pandas as pd\n",
    "import numpy as np\n",
    "from sklearn.metrics import accuracy_score, f1_score, confusion_matrix\n",
    "data = pd.read_csv('twitter_sentiment.csv')\n",
    "data.head()"
   ],
   "id": "initial_id",
   "outputs": [
    {
     "data": {
      "text/plain": [
       "  sentiment                                               text\n",
       "0  Positive  im getting on borderlands and i will murder yo...\n",
       "1  Positive  I am coming to the borders and I will kill you...\n",
       "2  Positive  im getting on borderlands and i will kill you ...\n",
       "3  Positive  im coming on borderlands and i will murder you...\n",
       "4  Positive  im getting on borderlands 2 and i will murder ..."
      ],
      "text/html": [
       "<div>\n",
       "<style scoped>\n",
       "    .dataframe tbody tr th:only-of-type {\n",
       "        vertical-align: middle;\n",
       "    }\n",
       "\n",
       "    .dataframe tbody tr th {\n",
       "        vertical-align: top;\n",
       "    }\n",
       "\n",
       "    .dataframe thead th {\n",
       "        text-align: right;\n",
       "    }\n",
       "</style>\n",
       "<table border=\"1\" class=\"dataframe\">\n",
       "  <thead>\n",
       "    <tr style=\"text-align: right;\">\n",
       "      <th></th>\n",
       "      <th>sentiment</th>\n",
       "      <th>text</th>\n",
       "    </tr>\n",
       "  </thead>\n",
       "  <tbody>\n",
       "    <tr>\n",
       "      <th>0</th>\n",
       "      <td>Positive</td>\n",
       "      <td>im getting on borderlands and i will murder yo...</td>\n",
       "    </tr>\n",
       "    <tr>\n",
       "      <th>1</th>\n",
       "      <td>Positive</td>\n",
       "      <td>I am coming to the borders and I will kill you...</td>\n",
       "    </tr>\n",
       "    <tr>\n",
       "      <th>2</th>\n",
       "      <td>Positive</td>\n",
       "      <td>im getting on borderlands and i will kill you ...</td>\n",
       "    </tr>\n",
       "    <tr>\n",
       "      <th>3</th>\n",
       "      <td>Positive</td>\n",
       "      <td>im coming on borderlands and i will murder you...</td>\n",
       "    </tr>\n",
       "    <tr>\n",
       "      <th>4</th>\n",
       "      <td>Positive</td>\n",
       "      <td>im getting on borderlands 2 and i will murder ...</td>\n",
       "    </tr>\n",
       "  </tbody>\n",
       "</table>\n",
       "</div>"
      ]
     },
     "execution_count": 60,
     "metadata": {},
     "output_type": "execute_result"
    }
   ],
   "execution_count": 60
  },
  {
   "metadata": {
    "ExecuteTime": {
     "end_time": "2024-08-17T05:56:10.529290Z",
     "start_time": "2024-08-17T05:56:10.515309Z"
    }
   },
   "cell_type": "code",
   "source": "data.sentiment.value_counts()",
   "id": "9be18a0a19aedcc4",
   "outputs": [
    {
     "data": {
      "text/plain": [
       "sentiment\n",
       "Negative    22624\n",
       "Positive    20932\n",
       "Name: count, dtype: int64"
      ]
     },
     "execution_count": 61,
     "metadata": {},
     "output_type": "execute_result"
    }
   ],
   "execution_count": 61
  },
  {
   "metadata": {
    "ExecuteTime": {
     "end_time": "2024-08-17T05:56:10.658058Z",
     "start_time": "2024-08-17T05:56:10.622674Z"
    }
   },
   "cell_type": "code",
   "source": "data['sentiment'] = data['sentiment'].apply(lambda x: 1 if x == 'Positive' else 0)",
   "id": "2e8b0281098c348b",
   "outputs": [],
   "execution_count": 62
  },
  {
   "metadata": {
    "ExecuteTime": {
     "end_time": "2024-08-17T05:56:10.941647Z",
     "start_time": "2024-08-17T05:56:10.662808Z"
    }
   },
   "cell_type": "code",
   "source": [
    "# remove stopwords, punctuation, convert to lower case, lemmatize, remove numbers, remove urls, remove mentions, remove hashtags, remove emojis, remove extra spaces\n",
    "\n",
    "import re\n",
    "import string\n",
    "import nltk\n",
    "from nltk.corpus import stopwords\n",
    "from nltk.tokenize import word_tokenize\n",
    "from nltk.stem import WordNetLemmatizer\n",
    "from nltk.stem import PorterStemmer\n",
    "from nltk.tokenize import TweetTokenizer\n",
    "from nltk.corpus import wordnet\n",
    "\n",
    "nltk.download('stopwords')\n",
    "nltk.download('punkt')\n",
    "nltk.download('wordnet')\n",
    "\n",
    "stop_words = set(stopwords.words('english'))\n",
    "lemmatizer = WordNetLemmatizer()\n",
    "stemmer = PorterStemmer()\n",
    "tokenizer = TweetTokenizer()\n",
    "\n",
    "def remove_stopwords(text):\n",
    "    return ' '.join([word for word in text.split() if word not in stop_words])\n",
    "\n",
    "def remove_punctuation(text):\n",
    "    return text.translate(str.maketrans('', '', string.punctuation))\n",
    "\n",
    "def to_lower(text):\n",
    "    return text.lower()\n",
    "\n",
    "def lemmatize(text):\n",
    "    return ' '.join([lemmatizer.lemmatize(word) for word in text.split()])\n",
    "\n",
    "def stem(text):\n",
    "    return ' '.join([stemmer.stem(word) for word in text.split()])\n",
    "\n",
    "def remove_numbers(text):\n",
    "    return re.sub(r'\\d+', '', text)\n",
    "\n",
    "def remove_urls(text):\n",
    "    return re.sub(r'http\\S+', '', text)\n",
    "\n",
    "def remove_mentions(text):\n",
    "    return re.sub(r'@\\w+', '', text)\n",
    "\n",
    "def remove_hashtags(text):\n",
    "    return re.sub(r'#\\w+', '', text)\n",
    "\n",
    "def remove_emojis(text):\n",
    "    return text.encode('ascii', 'ignore').decode('ascii')\n",
    "\n",
    "def remove_extra_spaces(text):\n",
    "    return ' '.join(text.split())\n",
    "\n",
    "def preprocess_minimal(text):\n",
    "    text = remove_urls(text)\n",
    "    text = remove_mentions(text)\n",
    "    text = remove_hashtags(text)\n",
    "    text = remove_extra_spaces(text)\n",
    "    return text\n",
    "\n",
    "data['text'] = data['text'].apply(preprocess_minimal)"
   ],
   "id": "3d88d02e3c8dcb8c",
   "outputs": [
    {
     "name": "stderr",
     "output_type": "stream",
     "text": [
      "[nltk_data] Downloading package stopwords to\n",
      "[nltk_data]     C:\\Users\\K7alid\\AppData\\Roaming\\nltk_data...\n",
      "[nltk_data]   Package stopwords is already up-to-date!\n",
      "[nltk_data] Downloading package punkt to\n",
      "[nltk_data]     C:\\Users\\K7alid\\AppData\\Roaming\\nltk_data...\n",
      "[nltk_data]   Package punkt is already up-to-date!\n",
      "[nltk_data] Downloading package wordnet to\n",
      "[nltk_data]     C:\\Users\\K7alid\\AppData\\Roaming\\nltk_data...\n",
      "[nltk_data]   Package wordnet is already up-to-date!\n"
     ]
    }
   ],
   "execution_count": 63
  },
  {
   "metadata": {
    "ExecuteTime": {
     "end_time": "2024-08-17T05:56:11.002074Z",
     "start_time": "2024-08-17T05:56:10.942695Z"
    }
   },
   "cell_type": "code",
   "source": [
    "# replace im with i am, dont with do not\n",
    "data['text'] = data['text'].apply(lambda x: x.replace(\"im\", \"i am\"))\n",
    "data['text'] = data['text'].apply(lambda x: x.replace(\"dont\", \"do not\"))\n",
    "\n",
    "data.head()"
   ],
   "id": "61bbdc70eee7e8ed",
   "outputs": [
    {
     "data": {
      "text/plain": [
       "   sentiment                                               text\n",
       "0          1  i am getting on borderlands and i will murder ...\n",
       "1          1  I am coming to the borders and I will kill you...\n",
       "2          1  i am getting on borderlands and i will kill yo...\n",
       "3          1  i am coming on borderlands and i will murder y...\n",
       "4          1  i am getting on borderlands 2 and i will murde..."
      ],
      "text/html": [
       "<div>\n",
       "<style scoped>\n",
       "    .dataframe tbody tr th:only-of-type {\n",
       "        vertical-align: middle;\n",
       "    }\n",
       "\n",
       "    .dataframe tbody tr th {\n",
       "        vertical-align: top;\n",
       "    }\n",
       "\n",
       "    .dataframe thead th {\n",
       "        text-align: right;\n",
       "    }\n",
       "</style>\n",
       "<table border=\"1\" class=\"dataframe\">\n",
       "  <thead>\n",
       "    <tr style=\"text-align: right;\">\n",
       "      <th></th>\n",
       "      <th>sentiment</th>\n",
       "      <th>text</th>\n",
       "    </tr>\n",
       "  </thead>\n",
       "  <tbody>\n",
       "    <tr>\n",
       "      <th>0</th>\n",
       "      <td>1</td>\n",
       "      <td>i am getting on borderlands and i will murder ...</td>\n",
       "    </tr>\n",
       "    <tr>\n",
       "      <th>1</th>\n",
       "      <td>1</td>\n",
       "      <td>I am coming to the borders and I will kill you...</td>\n",
       "    </tr>\n",
       "    <tr>\n",
       "      <th>2</th>\n",
       "      <td>1</td>\n",
       "      <td>i am getting on borderlands and i will kill yo...</td>\n",
       "    </tr>\n",
       "    <tr>\n",
       "      <th>3</th>\n",
       "      <td>1</td>\n",
       "      <td>i am coming on borderlands and i will murder y...</td>\n",
       "    </tr>\n",
       "    <tr>\n",
       "      <th>4</th>\n",
       "      <td>1</td>\n",
       "      <td>i am getting on borderlands 2 and i will murde...</td>\n",
       "    </tr>\n",
       "  </tbody>\n",
       "</table>\n",
       "</div>"
      ]
     },
     "execution_count": 64,
     "metadata": {},
     "output_type": "execute_result"
    }
   ],
   "execution_count": 64
  },
  {
   "metadata": {
    "ExecuteTime": {
     "end_time": "2024-08-17T05:56:11.017181Z",
     "start_time": "2024-08-17T05:56:11.002583Z"
    }
   },
   "cell_type": "code",
   "source": "data.shape",
   "id": "d207e82275f9cad9",
   "outputs": [
    {
     "data": {
      "text/plain": [
       "(43556, 2)"
      ]
     },
     "execution_count": 65,
     "metadata": {},
     "output_type": "execute_result"
    }
   ],
   "execution_count": 65
  },
  {
   "metadata": {
    "ExecuteTime": {
     "end_time": "2024-08-17T05:56:11.112444Z",
     "start_time": "2024-08-17T05:56:11.017181Z"
    }
   },
   "cell_type": "code",
   "source": "data = data[data['text'].apply(lambda x: len(x.split())) <= 15]",
   "id": "1e1178da41ecc745",
   "outputs": [],
   "execution_count": 66
  },
  {
   "metadata": {
    "ExecuteTime": {
     "end_time": "2024-08-17T05:56:11.127652Z",
     "start_time": "2024-08-17T05:56:11.116470Z"
    }
   },
   "cell_type": "code",
   "source": "data.shape",
   "id": "8d48c20cd4cf12ba",
   "outputs": [
    {
     "data": {
      "text/plain": [
       "(22787, 2)"
      ]
     },
     "execution_count": 67,
     "metadata": {},
     "output_type": "execute_result"
    }
   ],
   "execution_count": 67
  },
  {
   "metadata": {
    "ExecuteTime": {
     "end_time": "2024-08-17T05:56:11.142714Z",
     "start_time": "2024-08-17T05:56:11.129615Z"
    }
   },
   "cell_type": "code",
   "source": "data.sentiment.value_counts()",
   "id": "4d74513cf2ce438",
   "outputs": [
    {
     "data": {
      "text/plain": [
       "sentiment\n",
       "1    11849\n",
       "0    10938\n",
       "Name: count, dtype: int64"
      ]
     },
     "execution_count": 68,
     "metadata": {},
     "output_type": "execute_result"
    }
   ],
   "execution_count": 68
  },
  {
   "metadata": {
    "ExecuteTime": {
     "end_time": "2024-08-17T05:56:11.204221Z",
     "start_time": "2024-08-17T05:56:11.143814Z"
    }
   },
   "cell_type": "code",
   "source": "data.to_csv('twitter_sentiment_cleaned.csv', index=False)",
   "id": "74b68e27b36d5573",
   "outputs": [],
   "execution_count": 69
  },
  {
   "metadata": {
    "ExecuteTime": {
     "end_time": "2024-08-17T05:56:12.095524Z",
     "start_time": "2024-08-17T05:56:11.204221Z"
    }
   },
   "cell_type": "code",
   "source": [
    "from datasets import load_dataset\n",
    "\n",
    "raw_dataset = load_dataset('csv', data_files='twitter_sentiment_cleaned.csv')"
   ],
   "id": "a48cfbcb94178b7a",
   "outputs": [
    {
     "data": {
      "text/plain": [
       "Generating train split: 0 examples [00:00, ? examples/s]"
      ],
      "application/vnd.jupyter.widget-view+json": {
       "version_major": 2,
       "version_minor": 0,
       "model_id": "40664875b50c402a8b8e9be3ad94bb12"
      }
     },
     "metadata": {},
     "output_type": "display_data"
    }
   ],
   "execution_count": 70
  },
  {
   "metadata": {
    "ExecuteTime": {
     "end_time": "2024-08-17T05:56:12.111762Z",
     "start_time": "2024-08-17T05:56:12.100526Z"
    }
   },
   "cell_type": "code",
   "source": "raw_dataset",
   "id": "32dc4f480ed2c47c",
   "outputs": [
    {
     "data": {
      "text/plain": [
       "DatasetDict({\n",
       "    train: Dataset({\n",
       "        features: ['sentiment', 'text'],\n",
       "        num_rows: 22787\n",
       "    })\n",
       "})"
      ]
     },
     "execution_count": 71,
     "metadata": {},
     "output_type": "execute_result"
    }
   ],
   "execution_count": 71
  },
  {
   "metadata": {
    "ExecuteTime": {
     "end_time": "2024-08-17T05:56:12.173661Z",
     "start_time": "2024-08-17T05:56:12.115312Z"
    }
   },
   "cell_type": "code",
   "source": [
    "split = raw_dataset['train'].train_test_split(test_size=0.25, seed=42)\n",
    "split"
   ],
   "id": "3ff5641889224f00",
   "outputs": [
    {
     "data": {
      "text/plain": [
       "DatasetDict({\n",
       "    train: Dataset({\n",
       "        features: ['sentiment', 'text'],\n",
       "        num_rows: 17090\n",
       "    })\n",
       "    test: Dataset({\n",
       "        features: ['sentiment', 'text'],\n",
       "        num_rows: 5697\n",
       "    })\n",
       "})"
      ]
     },
     "execution_count": 72,
     "metadata": {},
     "output_type": "execute_result"
    }
   ],
   "execution_count": 72
  },
  {
   "metadata": {
    "ExecuteTime": {
     "end_time": "2024-08-17T05:56:12.186644Z",
     "start_time": "2024-08-17T05:56:12.173661Z"
    }
   },
   "cell_type": "code",
   "source": "check_point = 'distilbert-base-uncased'",
   "id": "b0d226518a8e6381",
   "outputs": [],
   "execution_count": 73
  },
  {
   "metadata": {
    "ExecuteTime": {
     "end_time": "2024-08-17T05:56:14.002040Z",
     "start_time": "2024-08-17T05:56:12.186644Z"
    }
   },
   "cell_type": "code",
   "source": [
    "from transformers import AutoTokenizer\n",
    "\n",
    "tokenizer = AutoTokenizer.from_pretrained(check_point)\n",
    "\n",
    "\n",
    "def tokenize_function(examples):\n",
    "    return tokenizer([str(text) for text in examples['text']], truncation=True)\n",
    "\n",
    "tokenized_datasets = split.map(tokenize_function, batched=True)\n",
    "\n",
    "tokenized_datasets = tokenized_datasets.rename_column(\"sentiment\", \"labels\")"
   ],
   "id": "c61f6270f041ce01",
   "outputs": [
    {
     "data": {
      "text/plain": [
       "Map:   0%|          | 0/17090 [00:00<?, ? examples/s]"
      ],
      "application/vnd.jupyter.widget-view+json": {
       "version_major": 2,
       "version_minor": 0,
       "model_id": "5ae48b676a694544b0ddcba4e8f5ea9b"
      }
     },
     "metadata": {},
     "output_type": "display_data"
    },
    {
     "data": {
      "text/plain": [
       "Map:   0%|          | 0/5697 [00:00<?, ? examples/s]"
      ],
      "application/vnd.jupyter.widget-view+json": {
       "version_major": 2,
       "version_minor": 0,
       "model_id": "41b67a1b2faa40a9847f707b0b92feb0"
      }
     },
     "metadata": {},
     "output_type": "display_data"
    }
   ],
   "execution_count": 74
  },
  {
   "metadata": {
    "ExecuteTime": {
     "end_time": "2024-08-17T05:56:14.017626Z",
     "start_time": "2024-08-17T05:56:14.004681Z"
    }
   },
   "cell_type": "code",
   "source": "tokenizer.vocab_size",
   "id": "34bc18d2fc29fa1d",
   "outputs": [
    {
     "data": {
      "text/plain": [
       "30522"
      ]
     },
     "execution_count": 75,
     "metadata": {},
     "output_type": "execute_result"
    }
   ],
   "execution_count": 75
  },
  {
   "metadata": {
    "ExecuteTime": {
     "end_time": "2024-08-17T05:56:14.033469Z",
     "start_time": "2024-08-17T05:56:14.019908Z"
    }
   },
   "cell_type": "code",
   "source": "tokenized_datasets",
   "id": "b4ee72dbf1a0a46a",
   "outputs": [
    {
     "data": {
      "text/plain": [
       "DatasetDict({\n",
       "    train: Dataset({\n",
       "        features: ['labels', 'text', 'input_ids', 'attention_mask'],\n",
       "        num_rows: 17090\n",
       "    })\n",
       "    test: Dataset({\n",
       "        features: ['labels', 'text', 'input_ids', 'attention_mask'],\n",
       "        num_rows: 5697\n",
       "    })\n",
       "})"
      ]
     },
     "execution_count": 76,
     "metadata": {},
     "output_type": "execute_result"
    }
   ],
   "execution_count": 76
  },
  {
   "metadata": {
    "ExecuteTime": {
     "end_time": "2024-08-17T05:56:14.228213Z",
     "start_time": "2024-08-17T05:56:14.035477Z"
    }
   },
   "cell_type": "code",
   "source": [
    "from transformers import AutoModelForSequenceClassification, TrainingArguments, Trainer, AutoConfig\n",
    "\n",
    "config = AutoConfig.from_pretrained(check_point, num_labels=2)"
   ],
   "id": "91f6fa8467e1a370",
   "outputs": [],
   "execution_count": 77
  },
  {
   "metadata": {
    "ExecuteTime": {
     "end_time": "2024-08-17T05:56:14.241713Z",
     "start_time": "2024-08-17T05:56:14.228213Z"
    }
   },
   "cell_type": "code",
   "source": "config",
   "id": "132c934a1cb8fe4b",
   "outputs": [
    {
     "data": {
      "text/plain": [
       "DistilBertConfig {\n",
       "  \"_name_or_path\": \"distilbert-base-uncased\",\n",
       "  \"activation\": \"gelu\",\n",
       "  \"architectures\": [\n",
       "    \"DistilBertForMaskedLM\"\n",
       "  ],\n",
       "  \"attention_dropout\": 0.1,\n",
       "  \"dim\": 768,\n",
       "  \"dropout\": 0.1,\n",
       "  \"hidden_dim\": 3072,\n",
       "  \"initializer_range\": 0.02,\n",
       "  \"max_position_embeddings\": 512,\n",
       "  \"model_type\": \"distilbert\",\n",
       "  \"n_heads\": 12,\n",
       "  \"n_layers\": 6,\n",
       "  \"pad_token_id\": 0,\n",
       "  \"qa_dropout\": 0.1,\n",
       "  \"seq_classif_dropout\": 0.2,\n",
       "  \"sinusoidal_pos_embds\": false,\n",
       "  \"tie_weights_\": true,\n",
       "  \"transformers_version\": \"4.40.1\",\n",
       "  \"vocab_size\": 30522\n",
       "}"
      ]
     },
     "execution_count": 78,
     "metadata": {},
     "output_type": "execute_result"
    }
   ],
   "execution_count": 78
  },
  {
   "metadata": {
    "ExecuteTime": {
     "end_time": "2024-08-17T05:56:14.258045Z",
     "start_time": "2024-08-17T05:56:14.244912Z"
    }
   },
   "cell_type": "code",
   "source": "config.label2id",
   "id": "79727632e8f4e3ce",
   "outputs": [
    {
     "data": {
      "text/plain": [
       "{'LABEL_0': 0, 'LABEL_1': 1}"
      ]
     },
     "execution_count": 79,
     "metadata": {},
     "output_type": "execute_result"
    }
   ],
   "execution_count": 79
  },
  {
   "metadata": {
    "ExecuteTime": {
     "end_time": "2024-08-17T05:56:14.271969Z",
     "start_time": "2024-08-17T05:56:14.258045Z"
    }
   },
   "cell_type": "code",
   "source": "config.id2label",
   "id": "a65ffa15ad07a8d0",
   "outputs": [
    {
     "data": {
      "text/plain": [
       "{0: 'LABEL_0', 1: 'LABEL_1'}"
      ]
     },
     "execution_count": 80,
     "metadata": {},
     "output_type": "execute_result"
    }
   ],
   "execution_count": 80
  },
  {
   "metadata": {
    "ExecuteTime": {
     "end_time": "2024-08-17T05:56:14.282728Z",
     "start_time": "2024-08-17T05:56:14.272477Z"
    }
   },
   "cell_type": "code",
   "source": [
    "config.id2label = {v: k for k, v in {'Negative': 0, 'Positive': 1}.items()}\n",
    "config.label2id = {'Negative': 0, 'Positive': 1}"
   ],
   "id": "3aac980f93081b01",
   "outputs": [],
   "execution_count": 81
  },
  {
   "metadata": {
    "ExecuteTime": {
     "end_time": "2024-08-17T05:56:14.298554Z",
     "start_time": "2024-08-17T05:56:14.283776Z"
    }
   },
   "cell_type": "code",
   "source": "config.id2label",
   "id": "9490615116a3d442",
   "outputs": [
    {
     "data": {
      "text/plain": [
       "{0: 'Negative', 1: 'Positive'}"
      ]
     },
     "execution_count": 82,
     "metadata": {},
     "output_type": "execute_result"
    }
   ],
   "execution_count": 82
  },
  {
   "metadata": {
    "ExecuteTime": {
     "end_time": "2024-08-17T05:56:14.311808Z",
     "start_time": "2024-08-17T05:56:14.298554Z"
    }
   },
   "cell_type": "code",
   "source": "config.label2id",
   "id": "29f0f20e1d130c2c",
   "outputs": [
    {
     "data": {
      "text/plain": [
       "{'Negative': 0, 'Positive': 1}"
      ]
     },
     "execution_count": 83,
     "metadata": {},
     "output_type": "execute_result"
    }
   ],
   "execution_count": 83
  },
  {
   "metadata": {
    "ExecuteTime": {
     "end_time": "2024-08-17T05:56:14.498633Z",
     "start_time": "2024-08-17T05:56:14.314379Z"
    }
   },
   "cell_type": "code",
   "source": "model = AutoModelForSequenceClassification.from_pretrained(check_point, config=config)",
   "id": "aff8ec90b3498f74",
   "outputs": [
    {
     "name": "stderr",
     "output_type": "stream",
     "text": [
      "Some weights of DistilBertForSequenceClassification were not initialized from the model checkpoint at distilbert-base-uncased and are newly initialized: ['classifier.bias', 'classifier.weight', 'pre_classifier.bias', 'pre_classifier.weight']\n",
      "You should probably TRAIN this model on a down-stream task to be able to use it for predictions and inference.\n"
     ]
    }
   ],
   "execution_count": 84
  },
  {
   "metadata": {
    "ExecuteTime": {
     "end_time": "2024-08-17T05:56:14.537804Z",
     "start_time": "2024-08-17T05:56:14.504197Z"
    }
   },
   "cell_type": "code",
   "source": [
    "from torchinfo import summary\n",
    "\n",
    "# summary(model, input_size=(16,512), dtypes=[ 'torch.IntTensor'], device='cpu')\n",
    "summary(model)"
   ],
   "id": "dc19679f4113580c",
   "outputs": [
    {
     "data": {
      "text/plain": [
       "================================================================================\n",
       "Layer (type:depth-idx)                                  Param #\n",
       "================================================================================\n",
       "DistilBertForSequenceClassification                     --\n",
       "├─DistilBertModel: 1-1                                  --\n",
       "│    └─Embeddings: 2-1                                  --\n",
       "│    │    └─Embedding: 3-1                              23,440,896\n",
       "│    │    └─Embedding: 3-2                              393,216\n",
       "│    │    └─LayerNorm: 3-3                              1,536\n",
       "│    │    └─Dropout: 3-4                                --\n",
       "│    └─Transformer: 2-2                                 --\n",
       "│    │    └─ModuleList: 3-5                             42,527,232\n",
       "├─Linear: 1-2                                           590,592\n",
       "├─Linear: 1-3                                           1,538\n",
       "├─Dropout: 1-4                                          --\n",
       "================================================================================\n",
       "Total params: 66,955,010\n",
       "Trainable params: 66,955,010\n",
       "Non-trainable params: 0\n",
       "================================================================================"
      ]
     },
     "execution_count": 85,
     "metadata": {},
     "output_type": "execute_result"
    }
   ],
   "execution_count": 85
  },
  {
   "metadata": {
    "ExecuteTime": {
     "end_time": "2024-08-17T05:56:14.636156Z",
     "start_time": "2024-08-17T05:56:14.537804Z"
    }
   },
   "cell_type": "code",
   "source": [
    "training_args = TrainingArguments(\n",
    "    output_dir=\"training_dir\",\n",
    "    evaluation_strategy=\"epoch\",\n",
    "    save_strategy=\"epoch\",\n",
    "    num_train_epochs=3,\n",
    "    per_device_train_batch_size=8,\n",
    "    per_device_eval_batch_size=8,\n",
    "    logging_dir=\"./logs\",\n",
    ")"
   ],
   "id": "86377343be369433",
   "outputs": [],
   "execution_count": 86
  },
  {
   "metadata": {
    "ExecuteTime": {
     "end_time": "2024-08-17T05:56:14.651066Z",
     "start_time": "2024-08-17T05:56:14.637914Z"
    }
   },
   "cell_type": "code",
   "source": [
    "def compute_metrics(eval_pred):\n",
    "    logits, labels = eval_pred\n",
    "    predictions = np.argmax(logits, axis=-1)\n",
    "    acc = np.mean(predictions == labels)\n",
    "    f1 = f1_score(labels, predictions, average='macro')\n",
    "    return {'accuracy': acc, 'f1': f1}"
   ],
   "id": "44b47c3cbec5af8f",
   "outputs": [],
   "execution_count": 87
  },
  {
   "metadata": {
    "ExecuteTime": {
     "end_time": "2024-08-17T05:56:14.892592Z",
     "start_time": "2024-08-17T05:56:14.652611Z"
    }
   },
   "cell_type": "code",
   "source": [
    "trainer = Trainer(\n",
    "    model=model,\n",
    "    args=training_args,\n",
    "    train_dataset=tokenized_datasets[\"train\"],\n",
    "    eval_dataset=tokenized_datasets[\"test\"],\n",
    "    tokenizer=tokenizer,\n",
    "    compute_metrics=compute_metrics,\n",
    ")"
   ],
   "id": "1dec5cea3eb57b2d",
   "outputs": [],
   "execution_count": 88
  },
  {
   "metadata": {
    "ExecuteTime": {
     "end_time": "2024-08-17T06:06:01.681982Z",
     "start_time": "2024-08-17T05:56:14.892592Z"
    }
   },
   "cell_type": "code",
   "source": "trainer.train()",
   "id": "f1369eef0f678aab",
   "outputs": [
    {
     "data": {
      "text/plain": [
       "<IPython.core.display.HTML object>"
      ],
      "text/html": [
       "\n",
       "    <div>\n",
       "      \n",
       "      <progress value='6411' max='6411' style='width:300px; height:20px; vertical-align: middle;'></progress>\n",
       "      [6411/6411 09:45, Epoch 3/3]\n",
       "    </div>\n",
       "    <table border=\"1\" class=\"dataframe\">\n",
       "  <thead>\n",
       " <tr style=\"text-align: left;\">\n",
       "      <th>Epoch</th>\n",
       "      <th>Training Loss</th>\n",
       "      <th>Validation Loss</th>\n",
       "      <th>Accuracy</th>\n",
       "      <th>F1</th>\n",
       "    </tr>\n",
       "  </thead>\n",
       "  <tbody>\n",
       "    <tr>\n",
       "      <td>1</td>\n",
       "      <td>0.330900</td>\n",
       "      <td>0.301016</td>\n",
       "      <td>0.901527</td>\n",
       "      <td>0.901154</td>\n",
       "    </tr>\n",
       "    <tr>\n",
       "      <td>2</td>\n",
       "      <td>0.169300</td>\n",
       "      <td>0.286506</td>\n",
       "      <td>0.924522</td>\n",
       "      <td>0.924278</td>\n",
       "    </tr>\n",
       "    <tr>\n",
       "      <td>3</td>\n",
       "      <td>0.089700</td>\n",
       "      <td>0.295350</td>\n",
       "      <td>0.929437</td>\n",
       "      <td>0.929254</td>\n",
       "    </tr>\n",
       "  </tbody>\n",
       "</table><p>"
      ]
     },
     "metadata": {},
     "output_type": "display_data"
    },
    {
     "data": {
      "text/plain": [
       "TrainOutput(global_step=6411, training_loss=0.2142057197176895, metrics={'train_runtime': 586.4224, 'train_samples_per_second': 87.428, 'train_steps_per_second': 10.932, 'total_flos': 381675831983808.0, 'train_loss': 0.2142057197176895, 'epoch': 3.0})"
      ]
     },
     "execution_count": 89,
     "metadata": {},
     "output_type": "execute_result"
    }
   ],
   "execution_count": 89
  },
  {
   "metadata": {
    "ExecuteTime": {
     "end_time": "2024-08-17T06:06:01.828104Z",
     "start_time": "2024-08-17T06:06:01.684313Z"
    }
   },
   "cell_type": "code",
   "source": "from transformers import pipeline",
   "id": "f979de8418d0d41a",
   "outputs": [],
   "execution_count": 90
  },
  {
   "metadata": {
    "ExecuteTime": {
     "end_time": "2024-08-17T06:09:39.992669Z",
     "start_time": "2024-08-17T06:09:39.383990Z"
    }
   },
   "cell_type": "code",
   "source": "saved_model = pipeline('text-classification', model='training_dir/checkpoint-2137', device=0)",
   "id": "cbedfbde5d28c1d1",
   "outputs": [],
   "execution_count": 94
  },
  {
   "metadata": {
    "ExecuteTime": {
     "end_time": "2024-08-17T06:09:41.517117Z",
     "start_time": "2024-08-17T06:09:41.493770Z"
    }
   },
   "cell_type": "code",
   "source": "split['test']",
   "id": "211ea66b12cf03dd",
   "outputs": [
    {
     "data": {
      "text/plain": [
       "Dataset({\n",
       "    features: ['sentiment', 'text'],\n",
       "    num_rows: 5697\n",
       "})"
      ]
     },
     "execution_count": 95,
     "metadata": {},
     "output_type": "execute_result"
    }
   ],
   "execution_count": 95
  },
  {
   "metadata": {
    "ExecuteTime": {
     "end_time": "2024-08-17T06:12:08.975749Z",
     "start_time": "2024-08-17T06:12:08.855924Z"
    }
   },
   "cell_type": "code",
   "source": [
    "sentence = \"I love this product!\"\n",
    "print(split['test']['text'][2])\n",
    "prediction = saved_model(split['test']['text'][2])\n",
    "\n",
    "print(prediction)\n"
   ],
   "id": "56d8b446acc3792",
   "outputs": [
    {
     "name": "stdout",
     "output_type": "stream",
     "text": [
      "The menu committee this year is atrocious.\n",
      "[{'label': 'Negative', 'score': 0.9556489586830139}]\n"
     ]
    }
   ],
   "execution_count": 99
  },
  {
   "metadata": {
    "ExecuteTime": {
     "end_time": "2024-08-17T06:20:39.685760Z",
     "start_time": "2024-08-17T06:20:39.559444Z"
    }
   },
   "cell_type": "code",
   "source": "!git init",
   "id": "c7b0c3faa7269aa6",
   "outputs": [
    {
     "name": "stdout",
     "output_type": "stream",
     "text": [
      "Initialized empty Git repository in K:/Mine/Â /Artificial Intelligence/NLP/Projects/sentiment analyser/.git/\n"
     ]
    }
   ],
   "execution_count": 100
  },
  {
   "metadata": {
    "jupyter": {
     "is_executing": true
    },
    "ExecuteTime": {
     "start_time": "2024-08-17T06:20:54.107476Z"
    }
   },
   "cell_type": "code",
   "source": "!git add .",
   "id": "328ed2bcf7d5e18c",
   "outputs": [],
   "execution_count": null
  },
  {
   "metadata": {},
   "cell_type": "code",
   "outputs": [],
   "execution_count": null,
   "source": "",
   "id": "5d0bc8e2f6d28b3d"
  }
 ],
 "metadata": {
  "kernelspec": {
   "display_name": "Python 3",
   "language": "python",
   "name": "python3"
  },
  "language_info": {
   "codemirror_mode": {
    "name": "ipython",
    "version": 2
   },
   "file_extension": ".py",
   "mimetype": "text/x-python",
   "name": "python",
   "nbconvert_exporter": "python",
   "pygments_lexer": "ipython2",
   "version": "2.7.6"
  }
 },
 "nbformat": 4,
 "nbformat_minor": 5
}
